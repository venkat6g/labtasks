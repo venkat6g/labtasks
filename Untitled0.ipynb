{
  "nbformat": 4,
  "nbformat_minor": 0,
  "metadata": {
    "colab": {
      "provenance": [],
      "authorship_tag": "ABX9TyO6j9c44Kh6GNBFN6/DTkKY",
      "include_colab_link": true
    },
    "kernelspec": {
      "name": "python3",
      "display_name": "Python 3"
    },
    "language_info": {
      "name": "python"
    }
  },
  "cells": [
    {
      "cell_type": "markdown",
      "metadata": {
        "id": "view-in-github",
        "colab_type": "text"
      },
      "source": [
        "<a href=\"https://colab.research.google.com/github/venkat6g/labtasks/blob/main/Untitled0.ipynb\" target=\"_parent\"><img src=\"https://colab.research.google.com/assets/colab-badge.svg\" alt=\"Open In Colab\"/></a>"
      ]
    },
    {
      "cell_type": "code",
      "execution_count": 1,
      "metadata": {
        "colab": {
          "base_uri": "https://localhost:8080/"
        },
        "id": "9XR4z1nMwEms",
        "outputId": "9d198c8b-d9d8-4381-af8e-db7eb14c3db3"
      },
      "outputs": [
        {
          "output_type": "stream",
          "name": "stdout",
          "text": [
            "Weather model hard-coded solutions: (2.0, 1.0)\n",
            "Enter coefficient a: 4\n",
            "Enter coefficient b: 3\n",
            "Enter coefficient c: -6\n",
            "Weather model keyboard input solutions: (0.9058688457449497, -1.6558688457449497)\n",
            "Weather model solutions from file: (2.0, 1.0)\n"
          ]
        }
      ],
      "source": [
        "import math\n",
        "\n",
        "def quadratic_solution(a, b, c):\n",
        "\n",
        "    delta = b**2 - 4*a*c\n",
        "\n",
        "\n",
        "    if delta >= 0:\n",
        "\n",
        "        x1 = (-b + math.sqrt(delta)) / (2*a)\n",
        "        x2 = (-b - math.sqrt(delta)) / (2*a)\n",
        "        return x1, x2\n",
        "    else:\n",
        "        return None\n",
        "\n",
        "def weather_model_hard_coded():\n",
        "\n",
        "    a = 1\n",
        "    b = -3\n",
        "    c = 2\n",
        "\n",
        "\n",
        "    solutions = quadratic_solution(a, b, c)\n",
        "\n",
        "\n",
        "    if solutions:\n",
        "        print(\"Weather model hard-coded solutions:\", solutions)\n",
        "    else:\n",
        "        print(\"No real solutions for the weather model.\")\n",
        "\n",
        "def weather_model_keyboard_input():\n",
        "\n",
        "    a = float(input(\"Enter coefficient a: \"))\n",
        "    b = float(input(\"Enter coefficient b: \"))\n",
        "    c = float(input(\"Enter coefficient c: \"))\n",
        "\n",
        "\n",
        "    solutions = quadratic_solution(a, b, c)\n",
        "\n",
        "\n",
        "    if solutions:\n",
        "        print(\"Weather model keyboard input solutions:\", solutions)\n",
        "    else:\n",
        "        print(\"No real solutions for the weather model.\")\n",
        "\n",
        "def weather_model_read_from_file(filename):\n",
        "\n",
        "    try:\n",
        "        with open(filename, 'r') as file:\n",
        "            coefficients = [float(x) for x in file.readline().split()]\n",
        "    except FileNotFoundError:\n",
        "        print(f\"File '{filename}' not found.\")\n",
        "        return\n",
        "\n",
        "\n",
        "    if len(coefficients) != 3:\n",
        "        print(\"Invalid number of coefficients in the file.\")\n",
        "        return\n",
        "\n",
        "\n",
        "    a, b, c = coefficients\n",
        "\n",
        "\n",
        "    solutions = quadratic_solution(a, b, c)\n",
        "\n",
        "\n",
        "    if solutions:\n",
        "        print(\"Weather model solutions from file:\", solutions)\n",
        "    else:\n",
        "        print(\"No real solutions for the weather model.\")\n",
        "\n",
        "if __name__ == \"__main__\":\n",
        "\n",
        "    weather_model_hard_coded()\n",
        "\n",
        "\n",
        "    weather_model_keyboard_input()\n",
        "\n",
        "\n",
        "    file_name = \"coefficients.txt\"\n",
        "    weather_model_read_from_file(file_name)"
      ]
    }
  ]
}